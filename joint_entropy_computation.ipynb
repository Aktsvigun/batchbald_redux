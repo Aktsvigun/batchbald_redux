{
 "cells": [
  {
   "cell_type": "code",
   "execution_count": 1,
   "metadata": {
    "ExecuteTime": {
     "end_time": "2020-04-24T12:52:08.850618Z",
     "start_time": "2020-04-24T12:52:08.845369Z"
    }
   },
   "outputs": [],
   "source": [
    "# default_exp joint_entropy"
   ]
  },
  {
   "cell_type": "code",
   "execution_count": 2,
   "metadata": {
    "ExecuteTime": {
     "end_time": "2020-04-24T12:52:08.954867Z",
     "start_time": "2020-04-24T12:52:08.885088Z"
    }
   },
   "outputs": [
    {
     "name": "stdout",
     "output_type": "stream",
     "text": [
      "Appended /home/blackhc/PycharmProjects/batchbald_redux/src to paths\n",
      "Switched to directory /home/blackhc/PycharmProjects/batchbald_redux\n",
      "%load_ext autoreload\n",
      "%autoreload 2\n"
     ]
    }
   ],
   "source": [
    "# hide\n",
    "import blackhc.project.script"
   ]
  },
  {
   "cell_type": "markdown",
   "metadata": {},
   "source": [
    "# Joint entropies\n",
    "> On how to compute joint entropies exactly and using importance sampling"
   ]
  },
  {
   "cell_type": "markdown",
   "metadata": {},
   "source": [
    "Module to help compute joint entropies for dependent categorical variables given via a density $p((y_i)_i|w))$ in the Bayesian setting. We compute the density $p((y_i)_i)$ by marginalizing over $w$.\n",
    "\n",
    "Two classes are provided:\n",
    "\n",
    "* exact computation (which works for up 5 to joint variables);\n",
    "* estimate using importance sampling of configurations."
   ]
  },
  {
   "cell_type": "markdown",
   "metadata": {},
   "source": [
    "Number of inference samples `K`:"
   ]
  },
  {
   "cell_type": "code",
   "execution_count": 3,
   "metadata": {
    "ExecuteTime": {
     "end_time": "2020-04-24T12:52:09.443081Z",
     "start_time": "2020-04-24T12:52:09.434507Z"
    }
   },
   "outputs": [],
   "source": [
    "K=20"
   ]
  },
  {
   "cell_type": "code",
   "execution_count": 4,
   "metadata": {
    "ExecuteTime": {
     "end_time": "2020-04-24T12:52:09.571562Z",
     "start_time": "2020-04-24T12:52:09.468939Z"
    }
   },
   "outputs": [],
   "source": [
    "#hide\n",
    "from nbdev.showdoc import *"
   ]
  },
  {
   "cell_type": "code",
   "execution_count": 5,
   "metadata": {
    "ExecuteTime": {
     "end_time": "2020-04-24T12:52:09.829865Z",
     "start_time": "2020-04-24T12:52:09.572446Z"
    }
   },
   "outputs": [],
   "source": [
    "# exports\n",
    "\n",
    "import torch\n",
    "from toma import toma\n",
    "from tqdm.auto import tqdm"
   ]
  },
  {
   "cell_type": "markdown",
   "metadata": {},
   "source": [
    "To run tests, we need a few sampled distributions."
   ]
  },
  {
   "cell_type": "code",
   "execution_count": 6,
   "metadata": {
    "ExecuteTime": {
     "end_time": "2020-04-24T12:52:09.842320Z",
     "start_time": "2020-04-24T12:52:09.831124Z"
    }
   },
   "outputs": [],
   "source": [
    "import numpy as np\n",
    "\n",
    "def get_mixture_prob_dist(p1, p2, m):\n",
    "  return (1. - m) * np.asarray(p1) + m * np.asarray(p2)\n",
    "\n",
    "p1=[0.1,0.2,0.2,0.5]\n",
    "p2=[0.5,0.2,0.1,0.2]\n",
    "y1_ws=[get_mixture_prob_dist(p1,p2,m) for m in np.linspace(0, 1, K)]\n",
    "\n",
    "p1=[0.1,0.6,0.2,0.1]\n",
    "p2=[0.0,0.5,0.5,0.0]\n",
    "y2_ws=[get_mixture_prob_dist(p1,p2,m) for m in np.linspace(0, 1, K)]\n",
    "\n",
    "def nested_to_tensor(*l):\n",
    "    return torch.stack(list(map(torch.as_tensor, l))) \n",
    "\n",
    "ys_ws=nested_to_tensor(y1_ws, y2_ws, y1_ws,y2_ws, y1_ws,y2_ws, y1_ws,y2_ws)"
   ]
  },
  {
   "cell_type": "code",
   "execution_count": 41,
   "metadata": {
    "ExecuteTime": {
     "end_time": "2020-04-24T13:13:59.970950Z",
     "start_time": "2020-04-24T13:13:59.959408Z"
    }
   },
   "outputs": [],
   "source": [
    "#hide\n",
    "\n",
    "p = [0.25, 0.25, 0.25, 0.25]\n",
    "yu_ws = [p for m in range(K)]\n",
    "yus_ws = nested_to_tensor(yu_ws, yu_ws, yu_ws, yu_ws)"
   ]
  },
  {
   "cell_type": "markdown",
   "metadata": {},
   "source": [
    "# JointEntropy interface\n",
    "\n",
    "Before we look at any implementations, we want to define an interface that we want to support."
   ]
  },
  {
   "cell_type": "code",
   "execution_count": 7,
   "metadata": {
    "ExecuteTime": {
     "end_time": "2020-04-24T12:52:09.854026Z",
     "start_time": "2020-04-24T12:52:09.843084Z"
    }
   },
   "outputs": [],
   "source": [
    "# export\n",
    "\n",
    "\n",
    "class JointEntropy:\n",
    "    \"\"\"Random variables (all with the same # of categories $C$) can be added via `JointEntropy.add_variables`.\n",
    "\n",
    "`JointEntropy.compute` computes the joint entropy.\n",
    "\n",
    "`JointEntropy.compute_batch` computes the joint entropy of the added variables with each of the variables in the provided batch probabilities in turn.\"\"\"\n",
    "    def compute(self) -> torch.Tensor:\n",
    "        \"\"\"Computes the entropy of this joint entropy.\"\"\"\n",
    "        raise NotImplementedError()\n",
    "\n",
    "    def add_variables(self, probs_N_K_C: torch.Tensor) -> 'JointEntropy':\n",
    "        \"\"\"Expands the joint entropy to include more terms.\"\"\"\n",
    "        raise NotImplementedError()\n",
    "\n",
    "    def compute_batch(self,\n",
    "                      probs_B_K_C: torch.Tensor,\n",
    "                      output_entropies_B=None) -> torch.Tensor:\n",
    "        \"\"\"Computes the joint entropy of the added variables together with the batch (one by one).\"\"\"\n",
    "        raise NotImplementedError()"
   ]
  },
  {
   "cell_type": "code",
   "execution_count": 8,
   "metadata": {
    "ExecuteTime": {
     "end_time": "2020-04-24T12:52:09.878267Z",
     "start_time": "2020-04-24T12:52:09.854744Z"
    }
   },
   "outputs": [
    {
     "data": {
      "text/markdown": [
       "<h4 id=\"JointEntropy.add_variables\" class=\"doc_header\"><code>JointEntropy.add_variables</code><a href=\"__main__.py#L14\" class=\"source_link\" style=\"float:right\">[source]</a></h4>\n",
       "\n",
       "> <code>JointEntropy.add_variables</code>(**`probs_N_K_C`**:`Tensor`)\n",
       "\n",
       "Expands the joint entropy to include more terms."
      ],
      "text/plain": [
       "<IPython.core.display.Markdown object>"
      ]
     },
     "metadata": {},
     "output_type": "display_data"
    },
    {
     "data": {
      "text/markdown": [
       "<h4 id=\"JointEntropy.compute\" class=\"doc_header\"><code>JointEntropy.compute</code><a href=\"__main__.py#L10\" class=\"source_link\" style=\"float:right\">[source]</a></h4>\n",
       "\n",
       "> <code>JointEntropy.compute</code>()\n",
       "\n",
       "Computes the entropy of this joint entropy."
      ],
      "text/plain": [
       "<IPython.core.display.Markdown object>"
      ]
     },
     "metadata": {},
     "output_type": "display_data"
    },
    {
     "data": {
      "text/markdown": [
       "<h4 id=\"JointEntropy.compute_batch\" class=\"doc_header\"><code>JointEntropy.compute_batch</code><a href=\"__main__.py#L18\" class=\"source_link\" style=\"float:right\">[source]</a></h4>\n",
       "\n",
       "> <code>JointEntropy.compute_batch</code>(**`probs_B_K_C`**:`Tensor`, **`output_entropies_B`**=*`None`*)\n",
       "\n",
       "Computes the joint entropy of the added variables together with the batch (one by one)."
      ],
      "text/plain": [
       "<IPython.core.display.Markdown object>"
      ]
     },
     "metadata": {},
     "output_type": "display_data"
    }
   ],
   "source": [
    "show_doc(JointEntropy.add_variables)\n",
    "show_doc(JointEntropy.compute)\n",
    "show_doc(JointEntropy.compute_batch)"
   ]
  },
  {
   "cell_type": "markdown",
   "metadata": {},
   "source": [
    "## Computing exact joint entropies\n",
    "\n",
    "To compute exact joint entropies, we have to compute all possible configurations of the $y_i$ and evaluate $p(y_1, \\dots, y_n)$ by averaging over $p(y_1, \\dots, y_n|w)$.\n",
    "\n",
    "The number of samples $M=C^N$, where $N$ is the number of variables in the joint and $C$ is the number of classes.\n",
    "\n",
    "For this, we provide a class `ExactJointEntropy` that takes $K$ and starts with no variables in the joint.\n",
    "\n",
    "### Version in the paper\n",
    "![Version in the paper](batchbald_exact_joint_entropy.png)"
   ]
  },
  {
   "cell_type": "markdown",
   "metadata": {},
   "source": [
    "### Implementation"
   ]
  },
  {
   "cell_type": "code",
   "execution_count": 47,
   "metadata": {
    "ExecuteTime": {
     "end_time": "2020-04-24T15:20:56.023606Z",
     "start_time": "2020-04-24T15:20:56.004947Z"
    }
   },
   "outputs": [],
   "source": [
    "# exports\n",
    "\n",
    "\n",
    "class ExactJointEntropy(JointEntropy):\n",
    "    joint_probs_M_K: torch.Tensor\n",
    "\n",
    "    def __init__(self, joint_probs_M_K: torch.Tensor):\n",
    "        self.joint_probs_M_K = joint_probs_M_K\n",
    "\n",
    "    @staticmethod\n",
    "    def empty(K: int, device=None, dtype=None) -> 'ExactJointEntropy':\n",
    "        return ExactJointEntropy(torch.ones((1, K), device=device,\n",
    "                                            dtype=dtype))\n",
    "\n",
    "    def compute(self) -> torch.Tensor:\n",
    "        probs_M = torch.mean(self.joint_probs_M_K, dim=1, keepdim=False)\n",
    "        nats_M = -torch.log(probs_M) * probs_M\n",
    "        entropy = torch.sum(nats_M)\n",
    "        return entropy\n",
    "\n",
    "    def add_variables(self, probs_N_K_C: torch.Tensor) -> 'ExactJointEntropy':\n",
    "        assert self.joint_probs_M_K.shape[1] == probs_N_K_C.shape[1]\n",
    "\n",
    "        N, K, C = probs_N_K_C.shape\n",
    "        joint_probs_K_M_1 = self.joint_probs_M_K.t()[:, :, None]\n",
    "\n",
    "        # Using lots of memory.\n",
    "        for i in range(N):\n",
    "            probs_i__K_1_C = probs_N_K_C[i][:, None, :].to(joint_probs_K_M_1,\n",
    "                                                           non_blocking=True)\n",
    "            joint_probs_K_M_C = joint_probs_K_M_1 * probs_i__K_1_C\n",
    "            joint_probs_K_M_1 = joint_probs_K_M_C.reshape((K, -1, 1))\n",
    "\n",
    "        self.joint_probs_M_K = joint_probs_K_M_1.squeeze(2).t()\n",
    "        return self\n",
    "\n",
    "    def compute_batch(self,\n",
    "                      probs_B_K_C: torch.Tensor,\n",
    "                      output_entropies_B=None):\n",
    "        assert self.joint_probs_M_K.shape[1] == probs_B_K_C.shape[1]\n",
    "\n",
    "        B, K, C = probs_B_K_C.shape\n",
    "        M = self.joint_probs_M_K.shape[0]\n",
    "\n",
    "        if output_entropies_B is None:\n",
    "            output_entropies_B = torch.empty(B,\n",
    "                                             dtype=probs_B_K_C.dtype,\n",
    "                                             device=probs_B_K_C.device)\n",
    "\n",
    "        pbar = tqdm(total=B, desc=\"ExactJointEntropy.compute_batch\", leave=False)\n",
    "\n",
    "        @toma.execute.chunked(probs_B_K_C,\n",
    "                              initial_step=1024,\n",
    "                              dimension=0)\n",
    "        def chunked_joint_entropy(chunked_probs_b_K_C: torch.Tensor,\n",
    "                                  start: int, end: int):\n",
    "            b = chunked_probs_b_K_C.shape[0]\n",
    "\n",
    "            probs_b_M_C = torch.empty((b, M, C),\n",
    "                                      dtype=self.joint_probs_M_K.dtype,\n",
    "                                      device=self.joint_probs_M_K.device)\n",
    "            for i in range(b):\n",
    "                torch.matmul(self.joint_probs_M_K,\n",
    "                             chunked_probs_b_K_C[i].to(self.joint_probs_M_K,\n",
    "                                               non_blocking=True),\n",
    "                             out=probs_b_M_C[i])\n",
    "            probs_b_M_C /= K\n",
    "\n",
    "            output_entropies_B[start:end].copy_(torch.sum(\n",
    "                -torch.log(probs_b_M_C) * probs_b_M_C, dim=(1, 2)),\n",
    "                                                non_blocking=True)\n",
    "\n",
    "            pbar.update(end - start)\n",
    "            \n",
    "        pbar.close()\n",
    "\n",
    "        return output_entropies_B"
   ]
  },
  {
   "cell_type": "code",
   "execution_count": 48,
   "metadata": {
    "ExecuteTime": {
     "end_time": "2020-04-24T15:20:56.536939Z",
     "start_time": "2020-04-24T15:20:56.515462Z"
    }
   },
   "outputs": [
    {
     "data": {
      "text/markdown": [
       "<h4 id=\"ExactJointEntropy.empty\" class=\"doc_header\"><code>ExactJointEntropy.empty</code><a href=\"__main__.py#L10\" class=\"source_link\" style=\"float:right\">[source]</a></h4>\n",
       "\n",
       "> <code>ExactJointEntropy.empty</code>(**`K`**:`int`, **`device`**=*`None`*, **`dtype`**=*`None`*)\n",
       "\n"
      ],
      "text/plain": [
       "<IPython.core.display.Markdown object>"
      ]
     },
     "metadata": {},
     "output_type": "display_data"
    },
    {
     "data": {
      "text/markdown": [
       "<h4 id=\"ExactJointEntropy.add_variables\" class=\"doc_header\"><code>ExactJointEntropy.add_variables</code><a href=\"__main__.py#L21\" class=\"source_link\" style=\"float:right\">[source]</a></h4>\n",
       "\n",
       "> <code>ExactJointEntropy.add_variables</code>(**`probs_N_K_C`**:`Tensor`)\n",
       "\n",
       "Expands the joint entropy to include more terms."
      ],
      "text/plain": [
       "<IPython.core.display.Markdown object>"
      ]
     },
     "metadata": {},
     "output_type": "display_data"
    },
    {
     "data": {
      "text/markdown": [
       "<h4 id=\"ExactJointEntropy.compute\" class=\"doc_header\"><code>ExactJointEntropy.compute</code><a href=\"__main__.py#L15\" class=\"source_link\" style=\"float:right\">[source]</a></h4>\n",
       "\n",
       "> <code>ExactJointEntropy.compute</code>()\n",
       "\n",
       "Computes the entropy of this joint entropy."
      ],
      "text/plain": [
       "<IPython.core.display.Markdown object>"
      ]
     },
     "metadata": {},
     "output_type": "display_data"
    },
    {
     "data": {
      "text/markdown": [
       "<h4 id=\"ExactJointEntropy.compute_batch\" class=\"doc_header\"><code>ExactJointEntropy.compute_batch</code><a href=\"__main__.py#L37\" class=\"source_link\" style=\"float:right\">[source]</a></h4>\n",
       "\n",
       "> <code>ExactJointEntropy.compute_batch</code>(**`probs_B_K_C`**:`Tensor`, **`output_entropies_B`**=*`None`*)\n",
       "\n",
       "Computes the joint entropy of the added variables together with the batch (one by one)."
      ],
      "text/plain": [
       "<IPython.core.display.Markdown object>"
      ]
     },
     "metadata": {},
     "output_type": "display_data"
    }
   ],
   "source": [
    "show_doc(ExactJointEntropy.empty)\n",
    "show_doc(ExactJointEntropy.add_variables)\n",
    "show_doc(ExactJointEntropy.compute)\n",
    "show_doc(ExactJointEntropy.compute_batch)"
   ]
  },
  {
   "cell_type": "markdown",
   "metadata": {},
   "source": [
    "### Example usages:"
   ]
  },
  {
   "cell_type": "code",
   "execution_count": 11,
   "metadata": {
    "ExecuteTime": {
     "end_time": "2020-04-24T12:52:10.386854Z",
     "start_time": "2020-04-24T12:52:10.346298Z"
    }
   },
   "outputs": [
    {
     "data": {
      "text/plain": [
       "tensor(4.6479, dtype=torch.float64)"
      ]
     },
     "execution_count": 11,
     "metadata": {},
     "output_type": "execute_result"
    }
   ],
   "source": [
    "joint_entropy = ExactJointEntropy.empty(K, dtype=torch.double)\n",
    "entropy = joint_entropy.add_variables(ys_ws[:4]).compute()\n",
    "assert np.isclose(entropy, 4.6479, atol=0.1)\n",
    "entropy"
   ]
  },
  {
   "cell_type": "code",
   "execution_count": 12,
   "metadata": {
    "ExecuteTime": {
     "end_time": "2020-04-24T12:52:10.404152Z",
     "start_time": "2020-04-24T12:52:10.388910Z"
    }
   },
   "outputs": [
    {
     "data": {
      "text/plain": [
       "tensor(4.6479)"
      ]
     },
     "execution_count": 12,
     "metadata": {},
     "output_type": "execute_result"
    }
   ],
   "source": [
    "joint_entropy = ExactJointEntropy.empty(K, dtype=torch.float)\n",
    "entropy = joint_entropy.add_variables(ys_ws[:4]).compute()\n",
    "assert np.isclose(entropy, 4.6479, atol=0.1)\n",
    "entropy"
   ]
  },
  {
   "cell_type": "code",
   "execution_count": 13,
   "metadata": {
    "ExecuteTime": {
     "end_time": "2020-04-24T12:52:10.532674Z",
     "start_time": "2020-04-24T12:52:10.405393Z"
    }
   },
   "outputs": [
    {
     "data": {
      "application/vnd.jupyter.widget-view+json": {
       "model_id": "",
       "version_major": 2,
       "version_minor": 0
      },
      "text/plain": [
       "HBox(children=(IntProgress(value=0, description='ExactJointEntropy.compute_batch', max=8, style=ProgressStyle(…"
      ]
     },
     "metadata": {},
     "output_type": "display_data"
    },
    {
     "name": "stdout",
     "output_type": "stream",
     "text": [
      "\r"
     ]
    },
    {
     "data": {
      "text/plain": [
       "tensor([5.9735, 5.6362, 5.9735, 5.6362, 5.9735, 5.6362, 5.9735, 5.6362],\n",
       "       dtype=torch.float64)"
      ]
     },
     "execution_count": 13,
     "metadata": {},
     "output_type": "execute_result"
    }
   ],
   "source": [
    "joint_entropy = ExactJointEntropy.empty(K, dtype=torch.float)\n",
    "entropies =joint_entropy.add_variables(ys_ws[:4]).compute_batch(ys_ws)\n",
    "assert np.allclose(entropies, [5.9735, 5.6362, 5.9735, 5.6362, 5.9735, 5.6362, 5.9735, 5.6362])\n",
    "entropies"
   ]
  },
  {
   "cell_type": "code",
   "execution_count": 46,
   "metadata": {
    "ExecuteTime": {
     "end_time": "2020-04-24T15:05:25.072377Z",
     "start_time": "2020-04-24T15:05:25.059637Z"
    }
   },
   "outputs": [
    {
     "name": "stdout",
     "output_type": "stream",
     "text": [
      "tensor(5.5452, dtype=torch.float64) 5.545177444479562\n"
     ]
    }
   ],
   "source": [
    "# hide\n",
    "joint_entropy = ExactJointEntropy.empty(K, dtype=torch.double)\n",
    "entropies =joint_entropy.add_variables(yus_ws).compute()\n",
    "print(entropies, np.log(4)*4)\n",
    "assert np.isclose(entropies, 5.5452, atol=0.1)"
   ]
  },
  {
   "cell_type": "markdown",
   "metadata": {},
   "source": [
    "## Computing  approximate joint entropies"
   ]
  },
  {
   "cell_type": "markdown",
   "metadata": {},
   "source": [
    "To compute approximate joint entropies, we have to sample possible configurations of the $y_i$ from $p(y_1, \\dots, y_n|w)$ stratified by $p(w)$ and evaluate $p(y_1, \\dots, y_n)$ by averaging over $p(y_1, \\dots, y_n|w)$.\n",
    "\n",
    "The number of samples is $M$, so we use $\\frac{M}{K}$ samples per $w$.\n",
    "\n",
    "For this, we provide a class `SampledJointEntropy` that takes $K$ and $M$, and implements the 'JointEntropy' interface."
   ]
  },
  {
   "cell_type": "markdown",
   "metadata": {},
   "source": [
    "To sample, we need a few helper functions."
   ]
  },
  {
   "cell_type": "code",
   "execution_count": 14,
   "metadata": {
    "ExecuteTime": {
     "end_time": "2020-04-24T12:52:10.888620Z",
     "start_time": "2020-04-24T12:52:10.862418Z"
    }
   },
   "outputs": [],
   "source": [
    "# exports\n",
    "def batch_multi_choices(probs_b_C, M: int):\n",
    "    \"\"\"\n",
    "    probs_b_C: Ni... x C\n",
    "\n",
    "    Returns:\n",
    "        choices: Ni... x M\n",
    "    \"\"\"\n",
    "    probs_B_C = probs_b_C.reshape((-1, probs_b_C.shape[-1]))\n",
    "\n",
    "    # samples: Ni... x draw_per_xx\n",
    "    choices = torch.multinomial(probs_B_C, num_samples=M, replacement=True)\n",
    "\n",
    "    choices_b_M = choices.reshape(list(probs_b_C.shape[:-1]) + [M])\n",
    "    return choices_b_M\n",
    "\n",
    "\n",
    "def gather_expand(data, dim, index):\n",
    "    if gather_expand.DEBUG_CHECKS:\n",
    "        assert len(data.shape) == len(index.shape)\n",
    "        assert all(dr == ir or 1 in (dr, ir) for dr, ir in zip(data.shape, index.shape))\n",
    "\n",
    "    max_shape = [max(dr, ir) for dr, ir in zip(data.shape, index.shape)]\n",
    "    new_data_shape = list(max_shape)\n",
    "    new_data_shape[dim] = data.shape[dim]\n",
    "\n",
    "    new_index_shape = list(max_shape)\n",
    "    new_index_shape[dim] = index.shape[dim]\n",
    "\n",
    "    data = data.expand(new_data_shape)\n",
    "    index = index.expand(new_index_shape)\n",
    "\n",
    "    return torch.gather(data, dim, index)\n",
    "\n",
    "\n",
    "gather_expand.DEBUG_CHECKS = False"
   ]
  },
  {
   "cell_type": "markdown",
   "metadata": {},
   "source": [
    "### Version in the paper\n",
    "![Version in the paper](batchbald_importance_sampling.png)"
   ]
  },
  {
   "cell_type": "markdown",
   "metadata": {},
   "source": [
    "### Implementation"
   ]
  },
  {
   "cell_type": "code",
   "execution_count": 15,
   "metadata": {
    "ExecuteTime": {
     "end_time": "2020-04-24T12:52:11.367296Z",
     "start_time": "2020-04-24T12:52:11.349836Z"
    }
   },
   "outputs": [],
   "source": [
    "# exports\n",
    "\n",
    "\n",
    "class SampledJointEntropy(JointEntropy):\n",
    "    \"\"\"Random variables (all with the same # of categories $C$) can be added via `SampledJointEntropy.add_variables`.\n",
    "\n",
    "`SampledJointEntropy.compute` computes the joint entropy.\n",
    "\n",
    "`SampledJointEntropy.compute_batch` computes the joint entropy of the added variables with each of the variables in the provided batch probabilities in turn.\"\"\"\n",
    "    sampled_joint_probs_M_K: torch.Tensor\n",
    "\n",
    "    def __init__(self, sampled_joint_probs_M_K: torch.Tensor):\n",
    "        self.sampled_joint_probs_M_K = sampled_joint_probs_M_K\n",
    "\n",
    "    @staticmethod\n",
    "    def empty(K: int, device=None, dtype=None) -> 'SampledJointEntropy':\n",
    "        return SampledJointEntropy(\n",
    "            torch.ones((1, K), device=device, dtype=dtype))\n",
    "\n",
    "    @staticmethod\n",
    "    def sample(probs_N_K_C: torch.Tensor, M: int) -> 'SampledJointEntropy':\n",
    "        K = probs_N_K_C.shape[1]\n",
    "\n",
    "        # S: num of samples per w\n",
    "        S = M // K\n",
    "\n",
    "        choices_N_K_S = batch_multi_choices(probs_N_K_C, S).long()\n",
    "\n",
    "        expanded_choices_N_1_K_S = choices_N_K_S[:, None, :, :]\n",
    "        expanded_probs_N_K_1_C = probs_N_K_C[:, :, None, :]\n",
    "\n",
    "        probs_N_K_K_S = gather_expand(expanded_probs_N_K_1_C,\n",
    "                                      dim=-1,\n",
    "                                      index=expanded_choices_N_1_K_S)\n",
    "        # exp sum log seems necessary to avoid 0s?\n",
    "        probs_K_K_S = torch.exp(\n",
    "            torch.sum(torch.log(probs_N_K_K_S), dim=0, keepdim=False))\n",
    "        samples_K_M = probs_K_K_S.reshape((K, -1))\n",
    "\n",
    "        samples_M_K = samples_K_M.t()\n",
    "        return SampledJointEntropy(samples_M_K)\n",
    "\n",
    "    def compute(self) -> torch.Tensor:\n",
    "        sampled_joint_probs_M = torch.mean(self.sampled_joint_probs_M_K,\n",
    "                                           dim=1,\n",
    "                                           keepdim=False)\n",
    "        nats_M = -torch.log(sampled_joint_probs_M)\n",
    "        entropy = torch.mean(nats_M)\n",
    "        return entropy\n",
    "\n",
    "    def add_variables(self, probs_N_K_C: torch.Tensor,\n",
    "                      M2: int) -> 'SampledJointEntropy':\n",
    "        assert self.sampled_joint_probs_M_K.shape[1] == probs_N_K_C.shape[1]\n",
    "\n",
    "        sample_K_M1_1 = self.sampled_joint_probs_M_K.t()[:, :, None]\n",
    "\n",
    "        new_sample_M2_K = self.sample(probs_N_K_C, M2).sampled_joint_probs_M_K\n",
    "        new_sample_K_1_M2 = new_sample_M2_K.t()[:, None, :]\n",
    "\n",
    "        merged_sample_K_M1_M2 = sample_K_M1_1 * new_sample_K_1_M2\n",
    "        merged_sample_K_M = merged_sample_K_M1_M2.reshape((K, -1))\n",
    "\n",
    "        self.sampled_joint_probs_M_K = merged_sample_K_M.t()\n",
    "\n",
    "        return self\n",
    "\n",
    "    def compute_batch(self,\n",
    "                      probs_B_K_C: torch.Tensor,\n",
    "                      output_entropies_B=None):\n",
    "        assert self.sampled_joint_probs_M_K.shape[1] == probs_B_K_C.shape[1]\n",
    "\n",
    "        B, K, C = probs_B_K_C.shape\n",
    "        M = self.sampled_joint_probs_M_K.shape[0]\n",
    "\n",
    "        if output_entropies_B is None:\n",
    "            output_entropies_B = torch.empty(B,\n",
    "                                             dtype=probs_B_K_C.dtype,\n",
    "                                             device=probs_B_K_C.device)\n",
    "\n",
    "        pbar = tqdm(total=B, desc=\"SampledJointEntropy.compute_batch\", leave=False)\n",
    "\n",
    "        @toma.execute.chunked(probs_B_K_C,\n",
    "                              initial_step=1024,\n",
    "                              dimension=0)\n",
    "        def chunked_joint_entropy(chunked_probs_b_K_C: torch.Tensor,\n",
    "                                  start: int, end: int):\n",
    "            b = chunked_probs_b_K_C.shape[0]\n",
    "\n",
    "            probs_b_M_C = torch.empty(\n",
    "                (b, M, C),\n",
    "                dtype=self.sampled_joint_probs_M_K.dtype,\n",
    "                device=self.sampled_joint_probs_M_K.device)\n",
    "            for i in range(b):\n",
    "                torch.matmul(self.sampled_joint_probs_M_K,\n",
    "                             probs_B_K_C[i].to(self.sampled_joint_probs_M_K,\n",
    "                                               non_blocking=True),\n",
    "                             out=probs_b_M_C[i])\n",
    "            probs_b_M_C /= K\n",
    "\n",
    "            q_1_M_1 = self.sampled_joint_probs_M_K.mean(dim=1,\n",
    "                                                        keepdim=True)[None]\n",
    "\n",
    "            output_entropies_B[start:end].copy_(\n",
    "                torch.sum(-torch.log(probs_b_M_C) * probs_b_M_C / q_1_M_1,\n",
    "                          dim=(1, 2)) / M,\n",
    "                non_blocking=True)\n",
    "\n",
    "            pbar.update(end - start)\n",
    "            \n",
    "        pbar.close()\n",
    "\n",
    "        return output_entropies_B"
   ]
  },
  {
   "cell_type": "code",
   "execution_count": 16,
   "metadata": {
    "ExecuteTime": {
     "end_time": "2020-04-24T12:52:11.388529Z",
     "start_time": "2020-04-24T12:52:11.368181Z"
    }
   },
   "outputs": [
    {
     "data": {
      "text/markdown": [
       "<h4 id=\"SampledJointEntropy.empty\" class=\"doc_header\"><code>SampledJointEntropy.empty</code><a href=\"__main__.py#L15\" class=\"source_link\" style=\"float:right\">[source]</a></h4>\n",
       "\n",
       "> <code>SampledJointEntropy.empty</code>(**`K`**:`int`, **`device`**=*`None`*, **`dtype`**=*`None`*)\n",
       "\n"
      ],
      "text/plain": [
       "<IPython.core.display.Markdown object>"
      ]
     },
     "metadata": {},
     "output_type": "display_data"
    },
    {
     "data": {
      "text/markdown": [
       "<h4 id=\"SampledJointEntropy.sample\" class=\"doc_header\"><code>SampledJointEntropy.sample</code><a href=\"__main__.py#L20\" class=\"source_link\" style=\"float:right\">[source]</a></h4>\n",
       "\n",
       "> <code>SampledJointEntropy.sample</code>(**`probs_N_K_C`**:`Tensor`, **`M`**:`int`)\n",
       "\n"
      ],
      "text/plain": [
       "<IPython.core.display.Markdown object>"
      ]
     },
     "metadata": {},
     "output_type": "display_data"
    },
    {
     "data": {
      "text/markdown": [
       "<h4 id=\"SampledJointEntropy.compute\" class=\"doc_header\"><code>SampledJointEntropy.compute</code><a href=\"__main__.py#L43\" class=\"source_link\" style=\"float:right\">[source]</a></h4>\n",
       "\n",
       "> <code>SampledJointEntropy.compute</code>()\n",
       "\n",
       "Computes the entropy of this joint entropy."
      ],
      "text/plain": [
       "<IPython.core.display.Markdown object>"
      ]
     },
     "metadata": {},
     "output_type": "display_data"
    },
    {
     "data": {
      "text/markdown": [
       "<h4 id=\"SampledJointEntropy.add_variables\" class=\"doc_header\"><code>SampledJointEntropy.add_variables</code><a href=\"__main__.py#L51\" class=\"source_link\" style=\"float:right\">[source]</a></h4>\n",
       "\n",
       "> <code>SampledJointEntropy.add_variables</code>(**`probs_N_K_C`**:`Tensor`, **`M2`**:`int`)\n",
       "\n",
       "Expands the joint entropy to include more terms."
      ],
      "text/plain": [
       "<IPython.core.display.Markdown object>"
      ]
     },
     "metadata": {},
     "output_type": "display_data"
    },
    {
     "data": {
      "text/markdown": [
       "<h4 id=\"SampledJointEntropy.compute_batch\" class=\"doc_header\"><code>SampledJointEntropy.compute_batch</code><a href=\"__main__.py#L67\" class=\"source_link\" style=\"float:right\">[source]</a></h4>\n",
       "\n",
       "> <code>SampledJointEntropy.compute_batch</code>(**`probs_B_K_C`**:`Tensor`, **`output_entropies_B`**=*`None`*)\n",
       "\n",
       "Computes the joint entropy of the added variables together with the batch (one by one)."
      ],
      "text/plain": [
       "<IPython.core.display.Markdown object>"
      ]
     },
     "metadata": {},
     "output_type": "display_data"
    }
   ],
   "source": [
    "show_doc(SampledJointEntropy.empty)\n",
    "show_doc(SampledJointEntropy.sample)\n",
    "show_doc(SampledJointEntropy.compute)\n",
    "show_doc(SampledJointEntropy.add_variables)\n",
    "show_doc(SampledJointEntropy.compute_batch)"
   ]
  },
  {
   "cell_type": "markdown",
   "metadata": {},
   "source": [
    "### Example usages"
   ]
  },
  {
   "cell_type": "code",
   "execution_count": 17,
   "metadata": {
    "ExecuteTime": {
     "end_time": "2020-04-24T12:52:11.614926Z",
     "start_time": "2020-04-24T12:52:11.515604Z"
    }
   },
   "outputs": [
    {
     "name": "stdout",
     "output_type": "stream",
     "text": [
      "tensor(4.6475, dtype=torch.float64)\n"
     ]
    }
   ],
   "source": [
    "joint_entropy = SampledJointEntropy.empty(K, dtype=torch.double)\n",
    "entropy = joint_entropy.add_variables(ys_ws[:4], 100000).compute()\n",
    "\n",
    "print(entropy)\n",
    "assert np.isclose(entropy, 4.6479, atol=0.1)"
   ]
  },
  {
   "cell_type": "code",
   "execution_count": 18,
   "metadata": {
    "ExecuteTime": {
     "end_time": "2020-04-24T12:52:11.671358Z",
     "start_time": "2020-04-24T12:52:11.615843Z"
    }
   },
   "outputs": [
    {
     "name": "stdout",
     "output_type": "stream",
     "text": [
      "tensor(4.6442, dtype=torch.float64)\n"
     ]
    }
   ],
   "source": [
    "joint_entropy = SampledJointEntropy.empty(K, dtype=torch.double)\n",
    "entropy = joint_entropy.add_variables(ys_ws[:4], 100000).compute()\n",
    "\n",
    "print(entropy)\n",
    "assert np.isclose(entropy, 4.6479, atol=0.1)"
   ]
  },
  {
   "cell_type": "code",
   "execution_count": 19,
   "metadata": {
    "ExecuteTime": {
     "end_time": "2020-04-24T12:52:11.746234Z",
     "start_time": "2020-04-24T12:52:11.672313Z"
    }
   },
   "outputs": [
    {
     "data": {
      "application/vnd.jupyter.widget-view+json": {
       "model_id": "",
       "version_major": 2,
       "version_minor": 0
      },
      "text/plain": [
       "HBox(children=(IntProgress(value=0, description='SampledJointEntropy.compute_batch', max=8, style=ProgressStyl…"
      ]
     },
     "metadata": {},
     "output_type": "display_data"
    },
    {
     "name": "stdout",
     "output_type": "stream",
     "text": [
      "\r",
      "tensor([5.9680, 5.6302, 5.9680, 5.6302, 5.9680, 5.6302, 5.9680, 5.6302],\n",
      "       dtype=torch.float64)\n"
     ]
    }
   ],
   "source": [
    "joint_entropy = SampledJointEntropy.empty(K, dtype=torch.float)\n",
    "entropies =joint_entropy.add_variables(ys_ws[:4], 10000).compute_batch(ys_ws)\n",
    "\n",
    "print(entropies)\n",
    "assert np.allclose(entropies, [5.9735, 5.6362, 5.9735, 5.6362, 5.9735, 5.6362, 5.9735, 5.6362], atol=0.05)\n"
   ]
  },
  {
   "cell_type": "markdown",
   "metadata": {},
   "source": [
    "## Dynamically choose the JointEntropy method\n",
    "\n",
    "Finally, we want to be able to dynamically pick either class depending on the maximum number of samples we want. (And also resample if necessary as we add variables.)"
   ]
  },
  {
   "cell_type": "code",
   "execution_count": 20,
   "metadata": {
    "ExecuteTime": {
     "end_time": "2020-04-24T12:52:11.758584Z",
     "start_time": "2020-04-24T12:52:11.747206Z"
    }
   },
   "outputs": [],
   "source": [
    "# exports\n",
    "\n",
    "class DynamicJointEntropy(JointEntropy):\n",
    "    inner: JointEntropy\n",
    "    probs_max_N_K_C: torch.Tensor\n",
    "    N: int\n",
    "    M: int\n",
    "        \n",
    "    def __init__(self, M:int, max_N: int, K: int, C: int, dtype=None, device=None):\n",
    "        self.M = M\n",
    "        self.N = 0\n",
    "        self.max_N = max_N\n",
    "        \n",
    "        self.inner = ExactJointEntropy.empty(K, dtype=dtype, device=device)\n",
    "        self.probs_max_N_K_C = torch.empty((max_N, K, C), dtype=dtype, device=device)\n",
    "    \n",
    "\n",
    "    def add_variables(self, probs_N_K_C: torch.Tensor) -> 'DynamicJointEntropy':\n",
    "        C = self.probs_max_N_K_C.shape[2]\n",
    "        add_N = probs_N_K_C.shape[0]\n",
    "        \n",
    "        assert self.probs_max_N_K_C.shape[0] >= self.N + add_N\n",
    "        assert self.probs_max_N_K_C.shape[2] == C\n",
    "        \n",
    "        self.probs_max_N_K_C[self.N:self.N+add_N] = probs_N_K_C\n",
    "        self.N += add_N       \n",
    "        \n",
    "        num_exact_samples = C**self.N\n",
    "        if num_exact_samples > self.M:\n",
    "            self.inner = SampledJointEntropy.sample(self.probs_max_N_K_C[:self.N], self.M)\n",
    "        else:\n",
    "            self.inner.add_variables(probs_N_K_C)\n",
    "            \n",
    "        return self\n",
    "    \n",
    "    def compute(self) -> torch.Tensor:\n",
    "        return self.inner.compute()\n",
    "    \n",
    "    def compute_batch(self,\n",
    "                      probs_B_K_C: torch.Tensor,\n",
    "                      output_entropies_B=None) -> torch.Tensor:\n",
    "        \"\"\"Computes the joint entropy of the added variables together with the batch (one by one).\"\"\"\n",
    "        return self.inner.compute_batch(probs_B_K_C, output_entropies_B)\n"
   ]
  },
  {
   "cell_type": "code",
   "execution_count": 21,
   "metadata": {
    "ExecuteTime": {
     "end_time": "2020-04-24T12:52:11.771403Z",
     "start_time": "2020-04-24T12:52:11.759584Z"
    }
   },
   "outputs": [
    {
     "data": {
      "text/markdown": [
       "<h4 id=\"DynamicJointEntropy.add_variables\" class=\"doc_header\"><code>DynamicJointEntropy.add_variables</code><a href=\"__main__.py#L18\" class=\"source_link\" style=\"float:right\">[source]</a></h4>\n",
       "\n",
       "> <code>DynamicJointEntropy.add_variables</code>(**`probs_N_K_C`**:`Tensor`)\n",
       "\n",
       "Expands the joint entropy to include more terms."
      ],
      "text/plain": [
       "<IPython.core.display.Markdown object>"
      ]
     },
     "metadata": {},
     "output_type": "display_data"
    },
    {
     "data": {
      "text/markdown": [
       "<h4 id=\"DynamicJointEntropy.compute_batch\" class=\"doc_header\"><code>DynamicJointEntropy.compute_batch</code><a href=\"__main__.py#L39\" class=\"source_link\" style=\"float:right\">[source]</a></h4>\n",
       "\n",
       "> <code>DynamicJointEntropy.compute_batch</code>(**`probs_B_K_C`**:`Tensor`, **`output_entropies_B`**=*`None`*)\n",
       "\n",
       "Computes the joint entropy of the added variables together with the batch (one by one)."
      ],
      "text/plain": [
       "<IPython.core.display.Markdown object>"
      ]
     },
     "metadata": {},
     "output_type": "display_data"
    }
   ],
   "source": [
    "show_doc(DynamicJointEntropy.add_variables)\n",
    "show_doc(DynamicJointEntropy.compute_batch)"
   ]
  },
  {
   "cell_type": "markdown",
   "metadata": {},
   "source": [
    "### Example usages"
   ]
  },
  {
   "cell_type": "code",
   "execution_count": 30,
   "metadata": {
    "ExecuteTime": {
     "end_time": "2020-04-24T12:53:29.878384Z",
     "start_time": "2020-04-24T12:53:29.860884Z"
    }
   },
   "outputs": [
    {
     "name": "stdout",
     "output_type": "stream",
     "text": [
      "tensor(4.6479, dtype=torch.float64)\n"
     ]
    }
   ],
   "source": [
    "joint_entropy = DynamicJointEntropy(256, 8, K, 4, dtype=torch.double)\n",
    "entropy = joint_entropy.add_variables(ys_ws[:4]).compute()\n",
    "\n",
    "print(entropy)\n",
    "assert np.isclose(entropy, 4.6479, atol=0.1)"
   ]
  },
  {
   "cell_type": "code",
   "execution_count": 31,
   "metadata": {
    "ExecuteTime": {
     "end_time": "2020-04-24T12:53:30.104208Z",
     "start_time": "2020-04-24T12:53:30.069145Z"
    }
   },
   "outputs": [],
   "source": [
    "assert type(joint_entropy.inner) == ExactJointEntropy"
   ]
  },
  {
   "cell_type": "code",
   "execution_count": 32,
   "metadata": {
    "ExecuteTime": {
     "end_time": "2020-04-24T12:53:30.448279Z",
     "start_time": "2020-04-24T12:53:30.432187Z"
    }
   },
   "outputs": [
    {
     "name": "stdout",
     "output_type": "stream",
     "text": [
      "tensor(9.2317, dtype=torch.float64)\n"
     ]
    }
   ],
   "source": [
    "entropy = joint_entropy.add_variables(ys_ws[4:]).compute()\n",
    "\n",
    "print(entropy)\n",
    "assert np.isclose(entropy, 9.2756, atol=0.5)"
   ]
  },
  {
   "cell_type": "code",
   "execution_count": 33,
   "metadata": {
    "ExecuteTime": {
     "end_time": "2020-04-24T12:53:31.601209Z",
     "start_time": "2020-04-24T12:53:31.586022Z"
    }
   },
   "outputs": [],
   "source": [
    "assert type(joint_entropy.inner) == SampledJointEntropy"
   ]
  }
 ],
 "metadata": {
  "kernelspec": {
   "display_name": "Python 3",
   "language": "python",
   "name": "python3"
  },
  "language_info": {
   "codemirror_mode": {
    "name": "ipython",
    "version": 3
   },
   "file_extension": ".py",
   "mimetype": "text/x-python",
   "name": "python",
   "nbconvert_exporter": "python",
   "pygments_lexer": "ipython3",
   "version": "3.7.7"
  },
  "latex_envs": {
   "LaTeX_envs_menu_present": true,
   "autoclose": true,
   "autocomplete": true,
   "bibliofile": "biblio.bib",
   "cite_by": "apalike",
   "current_citInitial": 1,
   "eqLabelWithNumbers": true,
   "eqNumInitial": 1,
   "hotkeys": {
    "equation": "Ctrl-E",
    "itemize": "Ctrl-I"
   },
   "labels_anchors": false,
   "latex_user_defs": false,
   "report_style_numbering": false,
   "user_envs_cfg": false
  },
  "toc": {
   "base_numbering": 1,
   "nav_menu": {},
   "number_sections": true,
   "sideBar": false,
   "skip_h1_title": true,
   "title_cell": "Table of Contents",
   "title_sidebar": "Contents",
   "toc_cell": false,
   "toc_position": {},
   "toc_section_display": true,
   "toc_window_display": false
  }
 },
 "nbformat": 4,
 "nbformat_minor": 4
}
